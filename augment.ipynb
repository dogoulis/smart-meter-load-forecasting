{
 "cells": [
  {
   "cell_type": "code",
   "execution_count": null,
   "metadata": {},
   "outputs": [],
   "source": [
    "import pandas as pd\n",
    "import numpy as np\n",
    "import matplotlib.pyplot as plt\n",
    "from tqdm import tqdm\n",
    "from sklearn.preprocessing import OneHotEncoder\n",
    "from tqdm import tqdm"
   ]
  },
  {
   "cell_type": "code",
   "execution_count": null,
   "metadata": {},
   "outputs": [],
   "source": [
    "data_path = './<>'\n",
    "data = pd.read_csv(data_path, parse_dates=['datetime'])\n",
    "data.set_index('datetime', drop=True, inplace=True)"
   ]
  },
  {
   "cell_type": "code",
   "execution_count": null,
   "metadata": {},
   "outputs": [],
   "source": [
    "def to_season(m):\n",
    "    if 1<= m<= 3:\n",
    "        return 1\n",
    "    if 4<= m<= 6:\n",
    "        return 2\n",
    "    if 7<= m<= 9:\n",
    "        return 3\n",
    "    if 10<= m<= 12:\n",
    "        return 4"
   ]
  },
  {
   "cell_type": "code",
   "execution_count": null,
   "metadata": {},
   "outputs": [],
   "source": [
    "data['year'] = data.index.year\n",
    "data['month'] = data.index.month\n",
    "data['dayofyear'] = data.index.dayofyear\n",
    "data['dayofweek'] = data.index.dayofweek\n",
    "data['week'] = data.index.week\n",
    "data['season'] = data[\"month\"].map(to_season)"
   ]
  },
  {
   "cell_type": "code",
   "execution_count": null,
   "metadata": {},
   "outputs": [],
   "source": [
    "cyclical_features = ['month', 'dayofweek', 'dayofyear', 'week', 'season']\n",
    "for col in tqdm(cyclical_features):\n",
    "   # solar \n",
    "   data['sin_%s' % col] = data[col].apply(lambda x: np.sin((2 * np.pi * x)/data[col].max()))\n",
    "   data['cos_%s' % col] = data[col].apply(lambda x: np.cos((2 * np.pi * x)/data[col].max()))"
   ]
  }
 ],
 "metadata": {
  "kernelspec": {
   "display_name": "Python 3.9.7",
   "language": "python",
   "name": "python3"
  },
  "language_info": {
   "name": "python",
   "version": "3.9.7"
  },
  "orig_nbformat": 4,
  "vscode": {
   "interpreter": {
    "hash": "c6e4e9f98eb68ad3b7c296f83d20e6de614cb42e90992a65aa266555a3137d0d"
   }
  }
 },
 "nbformat": 4,
 "nbformat_minor": 2
}
