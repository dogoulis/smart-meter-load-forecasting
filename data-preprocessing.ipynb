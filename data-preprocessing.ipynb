{
 "cells": [
  {
   "cell_type": "code",
   "execution_count": null,
   "metadata": {},
   "outputs": [],
   "source": [
    "import pandas as pd\n",
    "import numpy as np\n",
    "import matplotlib.pyplot as plt\n",
    "from tqdm import tqdm\n",
    "import skfda"
   ]
  },
  {
   "cell_type": "code",
   "execution_count": null,
   "metadata": {},
   "outputs": [],
   "source": [
    "import warnings \n",
    "warnings.filterwarnings('ignore')\n",
    "big_data = pd.read_csv('data_csvs/initdata.csv', sep=';', parse_dates=['REF_DATE'])\n",
    "big_data[\"AP\"] = big_data[\"AP\"].astype(\"category\")\n",
    "big_data[\"AP\"] = big_data[\"AP\"].cat.codes\n",
    "big_data['max'] = big_data.groupby('AP')['REF_DATE'].transform('max')\n",
    "big_data['min'] = big_data.groupby('AP')['REF_DATE'].transform('min')\n",
    "big_data['range'] = big_data['max'] - big_data['min']\n",
    "non_zero = big_data[big_data['range']==big_data['range'].max()]\n",
    "non_zero['max'] = pd.to_datetime('2021-09-30') # the last two months are with zero obs for every customer\n",
    "non_zero['range'] = non_zero['max'] - non_zero['min'] \n",
    "non_zero['ENERGY_MW'] = non_zero['ENERGY'] / 1000\n",
    "\n",
    "non_zero.set_index('REF_DATE', inplace=True)"
   ]
  },
  {
   "cell_type": "code",
   "execution_count": null,
   "metadata": {},
   "outputs": [],
   "source": [
    "df_big = pd.DataFrame()\n",
    "for i in tqdm(non_zero['AP'].unique()):\n",
    "    c = non_zero[non_zero['AP']==i]\n",
    "    s = c.resample('W')['ENERGY_MW'].sum()\n",
    "    s = pd.DataFrame(s)\n",
    "    s['AP'] = i\n",
    "    df_big = pd.concat((df_big,s))\n",
    "\n",
    "df_big['datetime'] = df_big.index"
   ]
  },
  {
   "cell_type": "code",
   "execution_count": null,
   "metadata": {},
   "outputs": [],
   "source": [
    "df_big['meanvalue'] = df_big.groupby('AP')['ENERGY_MW'].transform('mean')\n",
    "every_where_zero = df_big.set_index('AP')[df_big.set_index('AP')['meanvalue']==0].index.unique()"
   ]
  },
  {
   "cell_type": "markdown",
   "metadata": {},
   "source": [
    "drop customers that have meanvalue = 0 => there are everywhere zero"
   ]
  },
  {
   "cell_type": "code",
   "execution_count": null,
   "metadata": {},
   "outputs": [],
   "source": [
    "df_big.set_index('AP', inplace=True)\n",
    "df_big.drop(every_where_zero, inplace=True)\n",
    "\n",
    "df_big['AP'] = df_big.index\n",
    "df_big['datetime'] = pd.to_datetime(df_big['datetime'])\n",
    "df_big.set_index('datetime', inplace=True)"
   ]
  },
  {
   "cell_type": "markdown",
   "metadata": {},
   "source": [
    "function for scaling"
   ]
  },
  {
   "cell_type": "code",
   "execution_count": null,
   "metadata": {},
   "outputs": [],
   "source": [
    "from sklearn.preprocessing import MinMaxScaler\n",
    "\n",
    "def scale_data(df, column):\n",
    "    scaled_df = pd.DataFrame()\n",
    "    for customer in tqdm(df[\"AP\"].unique()):\n",
    "        scaler = MinMaxScaler()\n",
    "        customer_df = df[df[\"AP\"]==customer]\n",
    "        customer_df[\"scaled\"] = scaler.fit_transform(customer_df[[column]])\n",
    "        scaled_df = pd.concat((scaled_df, customer_df), axis=0).sort_index()\n",
    "\n",
    "    return scaled_df"
   ]
  },
  {
   "cell_type": "markdown",
   "metadata": {},
   "source": [
    "functions for clustering"
   ]
  },
  {
   "cell_type": "code",
   "execution_count": null,
   "metadata": {},
   "outputs": [],
   "source": [
    "def moving_average(x, w):\n",
    "    return np.convolve(x, np.ones(w), 'valid') / w\n",
    "\n",
    "def sliding_moving_average(x, w, s):\n",
    "    point=0\n",
    "    avg_array = []\n",
    "    for i in range(s):\n",
    "        avg = moving_average(x=x[point:s], w=w)\n",
    "        point+=s\n",
    "        avg_array.append(avg)\n",
    "    return avg_array"
   ]
  },
  {
   "cell_type": "code",
   "execution_count": null,
   "metadata": {},
   "outputs": [],
   "source": [
    "scaled_df = scale_data(df_big, 'ENERGY_MW')"
   ]
  },
  {
   "cell_type": "markdown",
   "metadata": {},
   "source": [
    "create features for clustering (based on sliding avgs)"
   ]
  },
  {
   "cell_type": "code",
   "execution_count": null,
   "metadata": {},
   "outputs": [],
   "source": [
    "avg_df_tiny = np.empty((1,310))\n",
    "\n",
    "for customer_id in tqdm(scaled_df.AP.unique()):\n",
    "    time_series = scaled_df[scaled_df['AP']==customer_id]['scaled'].values\n",
    "    averages = moving_average(time_series, 3).reshape(1,309)\n",
    "    customer_id = np.reshape(customer_id, (1,1))\n",
    "    averages = np.concatenate((customer_id, averages), axis=1)\n",
    "    avg_df_tiny = np.concatenate((avg_df_tiny, averages), axis=0)\n",
    "avg_df_tiny = np.delete(avg_df_tiny, obj=0, axis=0)\n",
    "avg_df_tiny = pd.DataFrame(avg_df_tiny)\n",
    "avg_df_tiny_columns = [f'small_{i}' for i in range(1,310)]\n",
    "avg_df_tiny_columns.extend(['AP_tiny'])\n",
    "avg_df_tiny.columns = avg_df_tiny_columns\n",
    "\n",
    "\n",
    "avg_df_small = np.empty((1,308))\n",
    "\n",
    "for customer_id in tqdm(scaled_df.AP.unique()):\n",
    "    time_series = scaled_df[scaled_df['AP']==customer_id]['scaled'].values\n",
    "    averages = moving_average(time_series, 5).reshape(1,307)\n",
    "    customer_id = np.reshape(customer_id, (1,1))\n",
    "    averages = np.concatenate((customer_id, averages), axis=1)\n",
    "    avg_df_small = np.concatenate((avg_df_small, averages), axis=0)\n",
    "avg_df_small = np.delete(avg_df_small, obj=0, axis=0)\n",
    "avg_df_small = pd.DataFrame(avg_df_small)\n",
    "avg_df_small_columns = [f'small_{i}' for i in range(1,308)]\n",
    "avg_df_small_columns.extend(['AP_small'])\n",
    "avg_df_small.columns = avg_df_small_columns\n",
    "\n",
    "\n",
    "\n",
    "avg_df_medium = np.empty((1,305))\n",
    "\n",
    "for customer_id in tqdm(scaled_df.AP.unique()):\n",
    "    time_series = scaled_df[scaled_df['AP']==customer_id]['scaled'].values\n",
    "    averages = moving_average(time_series, 8).reshape(1,304)\n",
    "    customer_id = np.reshape(customer_id, (1,1))\n",
    "    averages = np.concatenate((customer_id, averages), axis=1)\n",
    "    avg_df_medium = np.concatenate((avg_df_medium, averages), axis=0)\n",
    "avg_df_medium = np.delete(avg_df_medium, obj=0, axis=0)\n",
    "\n",
    "avg_df_medium = pd.DataFrame(avg_df_medium)\n",
    "avg_df_medium_columns = [f'medium{i}' for i in range(1,305)]\n",
    "avg_df_medium_columns.extend(['AP_medium'])\n",
    "avg_df_medium.columns = avg_df_medium_columns\n",
    "\n",
    "\n",
    "avg_df_big = np.empty((1,303))\n",
    "\n",
    "for customer_id in tqdm(scaled_df.AP.unique()):\n",
    "    time_series = scaled_df[scaled_df['AP']==customer_id]['scaled'].values\n",
    "    averages = moving_average(time_series, 10).reshape(1,302)\n",
    "    customer_id = np.reshape(customer_id, (1,1))\n",
    "    averages = np.concatenate((customer_id, averages), axis=1)\n",
    "    avg_df_big = np.concatenate((avg_df_big, averages), axis=0)\n",
    "avg_df_big = np.delete(avg_df_big, obj=0, axis=0)\n",
    "\n",
    "avg_df_big = pd.DataFrame(avg_df_big)\n",
    "avg_df_big_columns = [f'big_{i}' for i in range(1,303)]\n",
    "avg_df_big_columns.extend(['AP'])\n",
    "avg_df_big.columns = avg_df_big_columns"
   ]
  },
  {
   "cell_type": "code",
   "execution_count": null,
   "metadata": {},
   "outputs": [],
   "source": [
    "avg_df_big.index = [i for i in range(1,5069)]\n",
    "avg_df_medium.index = [i for i in range(1,5069)]\n",
    "avg_df_small.index = [i for i in range(1,5069)]\n",
    "avg_df_tiny.index = [i for i in range(1,5069)]"
   ]
  },
  {
   "cell_type": "markdown",
   "metadata": {},
   "source": [
    "concat"
   ]
  },
  {
   "cell_type": "code",
   "execution_count": null,
   "metadata": {},
   "outputs": [],
   "source": [
    "avg_df = pd.concat((avg_df_big, avg_df_small,avg_df_medium, avg_df_tiny,), axis=1)\n",
    "avg_df.drop(['AP_small', 'AP_medium', 'AP_tiny',], inplace=True, axis=1)"
   ]
  },
  {
   "cell_type": "markdown",
   "metadata": {},
   "source": [
    "selecting columns"
   ]
  },
  {
   "cell_type": "code",
   "execution_count": null,
   "metadata": {},
   "outputs": [],
   "source": [
    "cols = avg_df_small_columns.copy()\n",
    "cols.extend(avg_df_big_columns)\n",
    "cols.extend(avg_df_medium_columns)\n",
    "cols.extend(avg_df_tiny_columns)\n",
    "cols.remove('AP_medium')\n",
    "cols.remove('AP_small')\n",
    "cols.remove('AP_tiny')\n",
    "cols.remove('AP_baby')\n",
    "cols.remove('AP')"
   ]
  },
  {
   "cell_type": "markdown",
   "metadata": {},
   "source": [
    "clustering"
   ]
  },
  {
   "cell_type": "code",
   "execution_count": null,
   "metadata": {},
   "outputs": [],
   "source": [
    "wcss = []\n",
    "mat_grid = skfda.FDataGrid(avg_df[cols]) #metric=skfda.misc.metrics.angular_distance\n",
    "for i in tqdm(range(2, 25)): \n",
    "    fkm = skfda.ml.clustering.FuzzyCMeans(n_clusters=i, metric=skfda.misc.metrics.angular_distance)\n",
    "    fkm.fit(mat_grid)\n",
    "    wcss.append(fkm.inertia_)"
   ]
  },
  {
   "cell_type": "markdown",
   "metadata": {},
   "source": [
    "wcss-k plot"
   ]
  },
  {
   "cell_type": "code",
   "execution_count": null,
   "metadata": {},
   "outputs": [],
   "source": [
    "import matplotlib.pyplot as plt\n",
    "fig = plt.figure()\n",
    "plt.plot(range(2, 25), wcss, 'bx-')\n",
    "plt.xlabel('Number of clusters')\n",
    "plt.ylabel('WCSS') \n",
    "# plt.savefig('./figures/WCSSfuzzy.png')\n",
    "plt.show()"
   ]
  },
  {
   "cell_type": "markdown",
   "metadata": {},
   "source": [
    "select (k=10)"
   ]
  },
  {
   "cell_type": "code",
   "execution_count": null,
   "metadata": {},
   "outputs": [],
   "source": [
    "fkm = skfda.ml.clustering.FuzzyCMeans(random_state=42, n_clusters=10, metric=skfda.misc.metrics.angular_distance)\n",
    "fkm.fit(mat_grid)"
   ]
  },
  {
   "cell_type": "markdown",
   "metadata": {},
   "source": [
    "add cluster info to df"
   ]
  },
  {
   "cell_type": "code",
   "execution_count": null,
   "metadata": {},
   "outputs": [],
   "source": [
    "labels = pd.DataFrame(fkm.labels_)\n",
    "labels = pd.concat((pd.DataFrame(scaled_df['AP'].unique()), labels), axis=1)\n",
    "labels.columns = ['AP', 'cluster']"
   ]
  },
  {
   "cell_type": "markdown",
   "metadata": {},
   "source": [
    "some viz"
   ]
  },
  {
   "cell_type": "code",
   "execution_count": null,
   "metadata": {},
   "outputs": [],
   "source": [
    "customer_id = labels[labels['cluster']==5].sample(n=1)['AP'].item()\n",
    "fig = plt.figure()\n",
    "plt.plot(df_big[df_big['AP']==customer_id]['ENERGY_MW'].index, df_big[df_big['AP']==customer_id]['ENERGY_MW'])\n",
    "plt.xlabel('Datetime')\n",
    "plt.ylabel('Consumption (kW)') \n",
    "plt.savefig(f'./figures/bad-{customer_id}.png')\n",
    "plt.show()"
   ]
  },
  {
   "cell_type": "code",
   "execution_count": null,
   "metadata": {},
   "outputs": [],
   "source": [
    "dic = labels.set_index('AP')['cluster']\n",
    "scaled_df['cluster'] = scaled_df['AP'].map(dic)"
   ]
  },
  {
   "cell_type": "code",
   "execution_count": null,
   "metadata": {},
   "outputs": [],
   "source": [
    "md = pd.DataFrame(fkm.membership_degree_)\n",
    "md.columns = [f'degree_{i}' for i in range(0,10)]\n",
    "\n",
    "md = pd.concat((md, labels), axis=1)"
   ]
  },
  {
   "cell_type": "code",
   "execution_count": null,
   "metadata": {},
   "outputs": [],
   "source": [
    "md['max'] = md[[f'degree_{i}' for i in range(0,10)]].drop('degree_5', axis=1).max(axis=1)\n",
    "md['min'] = md[[f'degree_{i}' for i in range(0,10)]].min(axis=1)\n",
    "md['sum'] = md[[f'degree_{i}' for i in range(0,10)]].sum(axis=1)"
   ]
  },
  {
   "cell_type": "markdown",
   "metadata": {},
   "source": [
    "some viz"
   ]
  },
  {
   "cell_type": "code",
   "execution_count": null,
   "metadata": {},
   "outputs": [],
   "source": [
    "customer_id = md[md['cluster']==5].sort_values('degree_5', ascending=True).tail(100).sample(n=1)['AP'].item()\n",
    "fig = plt.figure()\n",
    "plt.plot(df_big[df_big['AP']==customer_id]['ENERGY_MW'].index, df_big[df_big['AP']==customer_id]['ENERGY_MW'])\n",
    "plt.xlabel('Datetime')\n",
    "plt.ylabel('Consumption (kW)') \n",
    "plt.show()"
   ]
  },
  {
   "cell_type": "code",
   "execution_count": null,
   "metadata": {},
   "outputs": [],
   "source": [
    "bad_cluster = md[md['cluster']==5]\n",
    "AP_values = bad_cluster[['AP']].reset_index()"
   ]
  },
  {
   "cell_type": "markdown",
   "metadata": {},
   "source": [
    "js divergence inside the cluster"
   ]
  },
  {
   "cell_type": "code",
   "execution_count": null,
   "metadata": {},
   "outputs": [],
   "source": [
    "from scipy.spatial.distance import jensenshannon\n",
    "\n",
    "bad_cluster_distances = bad_cluster[[f'degree_{i}' for i in range(0,10)]]\n",
    "bad_cluster_distances = np.array(bad_cluster_distances).reshape((len(bad_cluster_distances), len(bad_cluster_distances.columns)))\n",
    "\n",
    "js_matrix = np.empty((1,len(bad_cluster_distances)))\n",
    "for row in tqdm(range(len(bad_cluster_distances))):\n",
    "    js_row = []\n",
    "    for row_2 in range(len(bad_cluster_distances)):\n",
    "        js = jensenshannon(bad_cluster_distances[row], bad_cluster_distances[row_2])\n",
    "        js_row.append(js)\n",
    "    js_row = np.reshape(js_row, (1, len(bad_cluster_distances)))\n",
    "    js_matrix = np.concatenate((js_matrix, js_row), axis=0)\n",
    "\n",
    "\n",
    "js_matrix = np.delete(js_matrix, 0, axis=0)"
   ]
  },
  {
   "cell_type": "code",
   "execution_count": null,
   "metadata": {},
   "outputs": [],
   "source": [
    "df_js = pd.DataFrame(js_matrix)\n",
    "df_js.columns = [f'distance_{i}' for i in range(0,len(bad_cluster_distances))]\n",
    "df_js = pd.concat((df_js, AP_values), axis=1)\n",
    "df_js.drop('index', axis=1, inplace=True)"
   ]
  },
  {
   "cell_type": "markdown",
   "metadata": {},
   "source": [
    "some viz"
   ]
  },
  {
   "cell_type": "code",
   "execution_count": null,
   "metadata": {},
   "outputs": [],
   "source": [
    "customer_id = df_js.sort_values('mean_js', ascending=True).tail(100).sample(n=1)['AP'].item()\n",
    "fig = plt.figure()\n",
    "plt.plot(df_big[df_big['AP']==customer_id]['ENERGY_MW'].index, df_big[df_big['AP']==customer_id]['ENERGY_MW'])\n",
    "plt.xlabel('Datetime')\n",
    "plt.ylabel('Consumption (kW)') \n",
    "plt.show()"
   ]
  }
 ],
 "metadata": {
  "kernelspec": {
   "display_name": "Python 3.9.7",
   "language": "python",
   "name": "python3"
  },
  "language_info": {
   "name": "python",
   "version": "3.9.7"
  },
  "orig_nbformat": 4,
  "vscode": {
   "interpreter": {
    "hash": "c6e4e9f98eb68ad3b7c296f83d20e6de614cb42e90992a65aa266555a3137d0d"
   }
  }
 },
 "nbformat": 4,
 "nbformat_minor": 2
}
